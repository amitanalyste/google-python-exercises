{
 "cells": [
  {
   "cell_type": "markdown",
   "metadata": {},
   "source": [
    "### Count the distinct word in a sentence"
   ]
  },
  {
   "cell_type": "code",
   "execution_count": 27,
   "metadata": {
    "collapsed": true
   },
   "outputs": [],
   "source": [
    "sentence = \"I am a, boy. but you! are a girl\""
   ]
  },
  {
   "cell_type": "code",
   "execution_count": 28,
   "metadata": {
    "collapsed": true
   },
   "outputs": [],
   "source": [
    "import re"
   ]
  },
  {
   "cell_type": "code",
   "execution_count": 29,
   "metadata": {
    "collapsed": false
   },
   "outputs": [],
   "source": [
    "sentence2 = sentence.replace(\" \",\"\")\n",
    "\n",
    "special_char = re.findall(r'\\W', sentence2)"
   ]
  },
  {
   "cell_type": "code",
   "execution_count": 32,
   "metadata": {
    "collapsed": false
   },
   "outputs": [],
   "source": [
    "for char in special_char:\n",
    "    sentence = sentence.replace(char,\"\")"
   ]
  },
  {
   "cell_type": "code",
   "execution_count": 35,
   "metadata": {
    "collapsed": false
   },
   "outputs": [],
   "source": [
    "words_list = sentence.split()"
   ]
  },
  {
   "cell_type": "code",
   "execution_count": 36,
   "metadata": {
    "collapsed": false
   },
   "outputs": [],
   "source": [
    "word_dict = {}"
   ]
  },
  {
   "cell_type": "code",
   "execution_count": 37,
   "metadata": {
    "collapsed": true
   },
   "outputs": [],
   "source": [
    "for word in words_list:\n",
    "    word = word.lower()\n",
    "    if word not in word_dict:\n",
    "        word_dict[word] = 1\n",
    "    else:\n",
    "        word_dict[word] += 1"
   ]
  },
  {
   "cell_type": "code",
   "execution_count": 38,
   "metadata": {
    "collapsed": false
   },
   "outputs": [
    {
     "data": {
      "text/plain": [
       "{'a': 2, 'am': 1, 'are': 1, 'boy': 1, 'but': 1, 'girl': 1, 'i': 1, 'you': 1}"
      ]
     },
     "execution_count": 38,
     "metadata": {},
     "output_type": "execute_result"
    }
   ],
   "source": [
    "word_dict"
   ]
  },
  {
   "cell_type": "code",
   "execution_count": 39,
   "metadata": {
    "collapsed": false
   },
   "outputs": [
    {
     "data": {
      "text/plain": [
       "8"
      ]
     },
     "execution_count": 39,
     "metadata": {},
     "output_type": "execute_result"
    }
   ],
   "source": [
    "len(word_dict)"
   ]
  },
  {
   "cell_type": "code",
   "execution_count": 45,
   "metadata": {
    "collapsed": false
   },
   "outputs": [
    {
     "name": "stdout",
     "output_type": "stream",
     "text": [
      "InterviewQuestion.ipynb \u001b[30m\u001b[43mbabynames\u001b[m\u001b[m               \u001b[31mhello.py\u001b[m\u001b[m\r\n",
      "LICENSE.txt             \u001b[30m\u001b[43mbasic\u001b[m\u001b[m                   \u001b[30m\u001b[43mlogpuzzle\u001b[m\u001b[m\r\n",
      "ListDir.py              commands.py\r\n",
      "NOTICE.txt              \u001b[30m\u001b[43mcopyspecial\u001b[m\u001b[m\r\n"
     ]
    }
   ],
   "source": [
    "!ls"
   ]
  },
  {
   "cell_type": "code",
   "execution_count": 87,
   "metadata": {
    "collapsed": false
   },
   "outputs": [],
   "source": [
    "text = open(\"LICENSE.txt\").read()"
   ]
  },
  {
   "cell_type": "code",
   "execution_count": 102,
   "metadata": {
    "collapsed": true
   },
   "outputs": [],
   "source": [
    "import operator\n",
    "def distinct(List):\n",
    "    op = []\n",
    "    for item in List:\n",
    "        if item not in op:\n",
    "            op.append(item)\n",
    "    return op\n",
    "def word_count(text):\n",
    "    special_char = re.findall(r'\\W', text)\n",
    "    special_char = distinct(special_char)\n",
    "    for char in special_char:\n",
    "        text = text.replace(char, \" \")\n",
    "    wordList = text.split()\n",
    "    word_dict = {}\n",
    "    for word in wordList:\n",
    "        word = word.lower()\n",
    "        if word not in word_dict:\n",
    "            word_dict[word] = 1\n",
    "        else:\n",
    "            word_dict[word] += 1\n",
    "    word_dict = sorted(word_dict.items(), key = operator.itemgetter(1), reverse = True)\n",
    "    return word_dict"
   ]
  },
  {
   "cell_type": "code",
   "execution_count": 103,
   "metadata": {
    "collapsed": false
   },
   "outputs": [],
   "source": [
    "words_count = word_count(text)"
   ]
  },
  {
   "cell_type": "code",
   "execution_count": 105,
   "metadata": {
    "collapsed": false
   },
   "outputs": [
    {
     "data": {
      "text/plain": [
       "[('the', 100),\n",
       " ('or', 69),\n",
       " ('of', 67),\n",
       " ('and', 46),\n",
       " ('to', 40),\n",
       " ('license', 35),\n",
       " ('work', 34),\n",
       " ('any', 30),\n",
       " ('you', 26),\n",
       " ('in', 24),\n",
       " ('for', 24),\n",
       " ('by', 23),\n",
       " ('that', 22),\n",
       " ('a', 22),\n",
       " ('works', 19),\n",
       " ('such', 18),\n",
       " ('derivative', 18),\n",
       " ('this', 17),\n",
       " ('as', 17),\n",
       " ('shall', 15)]"
      ]
     },
     "execution_count": 105,
     "metadata": {},
     "output_type": "execute_result"
    }
   ],
   "source": [
    "words_count[:20]"
   ]
  },
  {
   "cell_type": "code",
   "execution_count": 124,
   "metadata": {
    "collapsed": false
   },
   "outputs": [],
   "source": [
    "def lookup_word(word, words_count):\n",
    "    for touple in words_count:\n",
    "        if touple[0] == word:\n",
    "            return touple[1]\n",
    "    \n",
    "    return \"We don't have \" + word + \" in the list!\""
   ]
  },
  {
   "cell_type": "code",
   "execution_count": 128,
   "metadata": {
    "collapsed": false,
    "scrolled": true
   },
   "outputs": [
    {
     "data": {
      "text/plain": [
       "\"We don't have love in the list!\""
      ]
     },
     "execution_count": 128,
     "metadata": {},
     "output_type": "execute_result"
    }
   ],
   "source": [
    "lookup_word('love', words_count)"
   ]
  },
  {
   "cell_type": "code",
   "execution_count": 121,
   "metadata": {
    "collapsed": false
   },
   "outputs": [
    {
     "name": "stdout",
     "output_type": "stream",
     "text": [
      "the\n",
      "or\n",
      "of\n",
      "and\n",
      "to\n",
      "license\n",
      "work\n",
      "any\n",
      "you\n",
      "in\n",
      "for\n",
      "by\n",
      "that\n",
      "a\n",
      "works\n",
      "such\n",
      "derivative\n",
      "this\n",
      "as\n",
      "shall\n"
     ]
    }
   ],
   "source": [
    "for touple in words_count[:20]:\n",
    "    if touple[0] == 'the':\n",
    "        return touple\n"
   ]
  },
  {
   "cell_type": "code",
   "execution_count": 118,
   "metadata": {
    "collapsed": false
   },
   "outputs": [
    {
     "data": {
      "text/plain": [
       "[('the', 100),\n",
       " ('or', 69),\n",
       " ('of', 67),\n",
       " ('and', 46),\n",
       " ('to', 40),\n",
       " ('license', 35),\n",
       " ('work', 34),\n",
       " ('any', 30),\n",
       " ('you', 26),\n",
       " ('in', 24),\n",
       " ('for', 24),\n",
       " ('by', 23),\n",
       " ('that', 22),\n",
       " ('a', 22),\n",
       " ('works', 19),\n",
       " ('such', 18),\n",
       " ('derivative', 18),\n",
       " ('this', 17),\n",
       " ('as', 17),\n",
       " ('shall', 15),\n",
       " ('your', 13),\n",
       " ('form', 13),\n",
       " ('conditions', 13),\n",
       " ('copyright', 13),\n",
       " ('not', 12),\n",
       " ('source', 12),\n",
       " ('with', 11),\n",
       " ('on', 11),\n",
       " ('licensor', 10),\n",
       " ('use', 10),\n",
       " ('entity', 10),\n",
       " ('mean', 10),\n",
       " ('contributor', 10),\n",
       " ('is', 10),\n",
       " ('under', 9),\n",
       " ('including', 9),\n",
       " ('notice', 9),\n",
       " ('may', 9),\n",
       " ('terms', 9),\n",
       " ('contribution', 8),\n",
       " ('file', 8),\n",
       " ('notices', 8),\n",
       " ('within', 8),\n",
       " ('patent', 7),\n",
       " ('other', 7),\n",
       " ('an', 7),\n",
       " ('modifications', 6),\n",
       " ('if', 6),\n",
       " ('object', 6),\n",
       " ('otherwise', 6),\n",
       " ('apache', 6),\n",
       " ('are', 6),\n",
       " ('owner', 6),\n",
       " ('provided', 5),\n",
       " ('liability', 5),\n",
       " ('distribute', 5),\n",
       " ('but', 5),\n",
       " ('without', 5),\n",
       " ('be', 5),\n",
       " ('distribution', 5),\n",
       " ('from', 5),\n",
       " ('legal', 5),\n",
       " ('damages', 5),\n",
       " ('behalf', 5),\n",
       " ('additional', 5),\n",
       " ('whether', 4),\n",
       " ('submitted', 4),\n",
       " ('attribution', 4),\n",
       " ('limited', 4),\n",
       " ('must', 4),\n",
       " ('own', 4),\n",
       " ('part', 4),\n",
       " ('text', 4),\n",
       " ('each', 4),\n",
       " ('no', 4),\n",
       " ('unless', 4),\n",
       " ('control', 4),\n",
       " ('2', 4),\n",
       " ('warranty', 4),\n",
       " ('purposes', 4),\n",
       " ('reproduction', 4),\n",
       " ('writing', 4),\n",
       " ('only', 4),\n",
       " ('thereof', 4),\n",
       " ('required', 4),\n",
       " ('following', 3),\n",
       " ('documentation', 3),\n",
       " ('include', 3),\n",
       " ('files', 3),\n",
       " ('direct', 3),\n",
       " ('copy', 3),\n",
       " ('those', 3),\n",
       " ('licenses', 3),\n",
       " ('accepting', 3),\n",
       " ('purpose', 3),\n",
       " ('distributed', 3),\n",
       " ('non', 3),\n",
       " ('permissions', 3),\n",
       " ('0', 3),\n",
       " ('except', 3),\n",
       " ('law', 3),\n",
       " ('excluding', 3),\n",
       " ('charge', 3),\n",
       " ('contributions', 3),\n",
       " ('agreed', 3),\n",
       " ('applicable', 3),\n",
       " ('authorship', 3),\n",
       " ('code', 3),\n",
       " ('version', 3),\n",
       " ('its', 3),\n",
       " ('s', 3),\n",
       " ('individual', 3),\n",
       " ('communication', 3),\n",
       " ('all', 3),\n",
       " ('grant', 3),\n",
       " ('do', 3),\n",
       " ('warranties', 3),\n",
       " ('name', 3),\n",
       " ('basis', 2),\n",
       " ('party', 2),\n",
       " ('systems', 2),\n",
       " ('publicly', 2),\n",
       " ('has', 2),\n",
       " ('subject', 2),\n",
       " ('either', 2),\n",
       " ('ownership', 2),\n",
       " ('implied', 2),\n",
       " ('reproduce', 2),\n",
       " ('names', 2),\n",
       " ('free', 2),\n",
       " ('original', 2),\n",
       " ('stated', 2),\n",
       " ('appendix', 2),\n",
       " ('pertain', 2),\n",
       " ('hereby', 2),\n",
       " ('inclusion', 2),\n",
       " ('royalty', 2),\n",
       " ('express', 2),\n",
       " ('against', 2),\n",
       " ('indirect', 2),\n",
       " ('add', 2),\n",
       " ('grants', 2),\n",
       " ('electronic', 2),\n",
       " ('provides', 2),\n",
       " ('software', 2),\n",
       " ('third', 2),\n",
       " ('have', 2),\n",
       " ('trademarks', 2),\n",
       " ('brackets', 2),\n",
       " ('generated', 2),\n",
       " ('redistributing', 2),\n",
       " ('9', 2),\n",
       " ('apply', 2),\n",
       " ('then', 2),\n",
       " ('whole', 2),\n",
       " ('contract', 2),\n",
       " ('modify', 2),\n",
       " ('means', 2),\n",
       " ('irrevocable', 2),\n",
       " ('exclusive', 2),\n",
       " ('1', 2),\n",
       " ('claims', 2),\n",
       " ('made', 2),\n",
       " ('been', 2),\n",
       " ('infringement', 2),\n",
       " ('obligations', 2),\n",
       " ('authorized', 2),\n",
       " ('included', 2),\n",
       " ('incorporated', 2),\n",
       " ('org', 2),\n",
       " ('their', 2),\n",
       " ('www', 2),\n",
       " ('worldwide', 2),\n",
       " ('http', 2),\n",
       " ('which', 2),\n",
       " ('perpetual', 2),\n",
       " ('cause', 2),\n",
       " ('granted', 2),\n",
       " ('enclosed', 2),\n",
       " ('kind', 2),\n",
       " ('intentionally', 2),\n",
       " ('limitation', 2),\n",
       " ('offer', 2),\n",
       " ('sell', 2),\n",
       " ('at', 2),\n",
       " ('display', 2),\n",
       " ('definition', 2),\n",
       " ('litigation', 2),\n",
       " ('prominent', 1),\n",
       " ('outstanding', 1),\n",
       " ('january', 1),\n",
       " ('computer', 1),\n",
       " ('arising', 1),\n",
       " ('sent', 1),\n",
       " ('defined', 1),\n",
       " ('tort', 1),\n",
       " ('mailing', 1),\n",
       " ('grossly', 1),\n",
       " ('document', 1),\n",
       " ('title', 1),\n",
       " ('syntax', 1),\n",
       " ('while', 1),\n",
       " ('7', 1),\n",
       " ('information', 1),\n",
       " ('limitations', 1),\n",
       " ('revisions', 1),\n",
       " ('modified', 1),\n",
       " ('acceptance', 1),\n",
       " ('below', 1),\n",
       " ('deliberate', 1),\n",
       " ('discussing', 1),\n",
       " ('inability', 1),\n",
       " ('submit', 1),\n",
       " ('8', 1),\n",
       " ('statement', 1),\n",
       " ('managed', 1),\n",
       " ('alongside', 1),\n",
       " ('origin', 1),\n",
       " ('definitions', 1),\n",
       " ('regarding', 1),\n",
       " ('union', 1),\n",
       " ('see', 1),\n",
       " ('event', 1),\n",
       " ('rights', 1),\n",
       " ('reasonable', 1),\n",
       " ('disclaimer', 1),\n",
       " ('conversions', 1),\n",
       " ('incidental', 1),\n",
       " ('choose', 1),\n",
       " ('making', 1),\n",
       " ('support', 1),\n",
       " ('informational', 1),\n",
       " ('give', 1),\n",
       " ('media', 1),\n",
       " ('consequential', 1),\n",
       " ('granting', 1),\n",
       " ('editorial', 1),\n",
       " ('combination', 1),\n",
       " ('contents', 1),\n",
       " ('complies', 1),\n",
       " ('where', 1),\n",
       " ('marked', 1),\n",
       " ('should', 1),\n",
       " ('theory', 1),\n",
       " ('associated', 1),\n",
       " ('recipients', 1),\n",
       " ('recommend', 1),\n",
       " ('harmless', 1),\n",
       " ('3', 1),\n",
       " ('i', 1),\n",
       " ('identification', 1),\n",
       " ('failure', 1),\n",
       " ('explicitly', 1),\n",
       " ('agree', 1),\n",
       " ('wherever', 1),\n",
       " ('particular', 1),\n",
       " ('conspicuously', 1),\n",
       " ('interfaces', 1),\n",
       " ('subsequently', 1),\n",
       " ('written', 1),\n",
       " ('reproducing', 1),\n",
       " ('types', 1),\n",
       " ('sublicense', 1),\n",
       " ('easier', 1),\n",
       " ('includes', 1),\n",
       " ('reason', 1),\n",
       " ('verbal', 1),\n",
       " ('ii', 1),\n",
       " ('redistribution', 1),\n",
       " ('link', 1),\n",
       " ('translation', 1),\n",
       " ('institute', 1),\n",
       " ('act', 1),\n",
       " ('lists', 1),\n",
       " ('malfunction', 1),\n",
       " ('infringed', 1),\n",
       " ('claim', 1),\n",
       " ('language', 1),\n",
       " ('class', 1),\n",
       " ('configuration', 1),\n",
       " ('negligent', 1),\n",
       " ('terminate', 1),\n",
       " ('additions', 1),\n",
       " ('loss', 1),\n",
       " ('available', 1),\n",
       " ('responsibility', 1),\n",
       " ('goodwill', 1),\n",
       " ('necessarily', 1),\n",
       " ('stoppage', 1),\n",
       " ('above', 1),\n",
       " ('determining', 1),\n",
       " ('designated', 1),\n",
       " ('medium', 1),\n",
       " ('t', 1),\n",
       " ('defend', 1),\n",
       " ('herein', 1),\n",
       " ('alone', 1),\n",
       " ('merely', 1),\n",
       " ('fields', 1),\n",
       " ('replaced', 1),\n",
       " ('yyyy', 1),\n",
       " ('indemnify', 1),\n",
       " ('least', 1),\n",
       " ('changed', 1),\n",
       " ('nothing', 1),\n",
       " ('management', 1),\n",
       " ('normally', 1),\n",
       " ('state', 1),\n",
       " ('exercise', 1),\n",
       " ('c', 1),\n",
       " ('specific', 1),\n",
       " ('possibility', 1),\n",
       " ('page', 1),\n",
       " ('d', 1),\n",
       " ('more', 1),\n",
       " ('attached', 1),\n",
       " ('executed', 1),\n",
       " ('marks', 1),\n",
       " ('liable', 1),\n",
       " ('power', 1),\n",
       " ('derived', 1),\n",
       " ('carry', 1),\n",
       " ('licensable', 1),\n",
       " ('trademark', 1),\n",
       " ('acting', 1),\n",
       " ('5', 1),\n",
       " ('entities', 1),\n",
       " ('even', 1),\n",
       " ('exercising', 1),\n",
       " ('sole', 1),\n",
       " ('cross', 1),\n",
       " ('trade', 1),\n",
       " ('separable', 1),\n",
       " ('resulting', 1),\n",
       " ('permission', 1),\n",
       " ('bind', 1),\n",
       " ('character', 1),\n",
       " ('comment', 1),\n",
       " ('responsible', 1),\n",
       " ('negligence', 1),\n",
       " ('through', 1),\n",
       " ('product', 1),\n",
       " ('import', 1),\n",
       " ('2004', 1),\n",
       " ('transformation', 1),\n",
       " ('counterclaim', 1),\n",
       " ('section', 1),\n",
       " ('common', 1),\n",
       " ('fee', 1),\n",
       " ('printed', 1),\n",
       " ('stating', 1),\n",
       " ('submission', 1),\n",
       " ('one', 1),\n",
       " ('based', 1),\n",
       " ('however', 1),\n",
       " ('iii', 1),\n",
       " ('solely', 1),\n",
       " ('attach', 1),\n",
       " ('supersede', 1),\n",
       " ('how', 1),\n",
       " ('filed', 1),\n",
       " ('representatives', 1),\n",
       " ('acts', 1),\n",
       " ('don', 1),\n",
       " ('remain', 1),\n",
       " ('readable', 1),\n",
       " ('appropriate', 1),\n",
       " ('notwithstanding', 1),\n",
       " ('description', 1),\n",
       " ('different', 1),\n",
       " ('direction', 1),\n",
       " ('losses', 1),\n",
       " ('received', 1),\n",
       " ('issue', 1),\n",
       " ('licensed', 1),\n",
       " ('compliance', 1),\n",
       " ('50', 1),\n",
       " ('fifty', 1),\n",
       " ('obtain', 1),\n",
       " ('identifying', 1),\n",
       " ('compiled', 1),\n",
       " ('beneficial', 1),\n",
       " ('construed', 1),\n",
       " ('customary', 1),\n",
       " ('copies', 1),\n",
       " ('commercial', 1),\n",
       " ('lawsuit', 1),\n",
       " ('make', 1),\n",
       " ('asserted', 1),\n",
       " ('4', 1),\n",
       " ('retain', 1),\n",
       " ('meet', 1),\n",
       " ('advised', 1),\n",
       " ('agreement', 1),\n",
       " ('contributory', 1),\n",
       " ('annotations', 1),\n",
       " ('6', 1),\n",
       " ('fitness', 1),\n",
       " ('along', 1),\n",
       " ('indicated', 1),\n",
       " ('mechanical', 1),\n",
       " ('transfer', 1),\n",
       " ('incurred', 1),\n",
       " ('risks', 1),\n",
       " ('indemnity', 1),\n",
       " ('archives', 1),\n",
       " ('constitutes', 1),\n",
       " ('cannot', 1),\n",
       " ('was', 1),\n",
       " ('example', 1),\n",
       " ('end', 1),\n",
       " ('governing', 1),\n",
       " ('b', 1),\n",
       " ('elaborations', 1),\n",
       " ('date', 1),\n",
       " ('perform', 1),\n",
       " ('assume', 1),\n",
       " ('content', 1),\n",
       " ('describing', 1),\n",
       " ('also', 1),\n",
       " ('addendum', 1),\n",
       " ('applies', 1),\n",
       " ('same', 1),\n",
       " ('provide', 1),\n",
       " ('represent', 1),\n",
       " ('does', 1),\n",
       " ('shares', 1),\n",
       " ('controlled', 1),\n",
       " ('places', 1),\n",
       " ('boilerplate', 1),\n",
       " ('service', 1),\n",
       " ('separate', 1),\n",
       " ('special', 1),\n",
       " ('contained', 1),\n",
       " ('appear', 1),\n",
       " ('out', 1),\n",
       " ('prepare', 1),\n",
       " ('modifying', 1),\n",
       " ('whom', 1),\n",
       " ('result', 1),\n",
       " ('tracking', 1),\n",
       " ('format', 1),\n",
       " ('sections', 1),\n",
       " ('preferred', 1),\n",
       " ('improving', 1),\n",
       " ('merchantability', 1),\n",
       " ('hold', 1),\n",
       " ('we', 1),\n",
       " ('consistent', 1),\n",
       " ('using', 1),\n",
       " ('appropriateness', 1),\n",
       " ('alleging', 1),\n",
       " ('percent', 1)]"
      ]
     },
     "execution_count": 118,
     "metadata": {},
     "output_type": "execute_result"
    }
   ],
   "source": [
    "words_count"
   ]
  },
  {
   "cell_type": "code",
   "execution_count": 8,
   "metadata": {
    "collapsed": false
   },
   "outputs": [
    {
     "data": {
      "text/plain": [
       "1"
      ]
     },
     "execution_count": 8,
     "metadata": {},
     "output_type": "execute_result"
    }
   ],
   "source": [
    "import numpy as np\n",
    "A = np.array([1, 6, 3, 4, 5, 9, 8, 7])\n",
    "A[0]"
   ]
  },
  {
   "cell_type": "code",
   "execution_count": 9,
   "metadata": {
    "collapsed": false
   },
   "outputs": [
    {
     "name": "stdout",
     "output_type": "stream",
     "text": [
      "1 9\n"
     ]
    }
   ],
   "source": [
    "max = A[0]\n",
    "min = A[0]\n",
    "for x in A:\n",
    "    if x > max:\n",
    "        max = x\n",
    "    elif x < min:\n",
    "        min = x\n",
    "print(min, max)\n",
    "        \n",
    "    "
   ]
  },
  {
   "cell_type": "code",
   "execution_count": 107,
   "metadata": {
    "collapsed": false
   },
   "outputs": [],
   "source": [
    "a = np.array([1, 5, 3, 19, 18, 25])\n",
    "b = np.array([30, 5, 20, 9])\n",
    "c = np.array([1, 19, -4, 31, 38, 25, 100])\n"
   ]
  },
  {
   "cell_type": "code",
   "execution_count": 140,
   "metadata": {
    "collapsed": false
   },
   "outputs": [],
   "source": [
    "def abs_min_difference(array):\n",
    "    sorted_array = sorted(array)\n",
    "    up = np.array(sorted_array[1:])\n",
    "    #print(up)\n",
    "    down = sorted_array[0:-1]\n",
    "    #print(down)\n",
    "    difference_array = up - down\n",
    "    #print(difference_array)\n",
    "    return min(difference_array)\n",
    "def min(array):\n",
    "    min_val = array[0] \n",
    "    for x in array:\n",
    "        if min_val > x:\n",
    "            min_val = x\n",
    "    return min_val\n",
    "        \n",
    "        "
   ]
  },
  {
   "cell_type": "code",
   "execution_count": 141,
   "metadata": {
    "collapsed": false
   },
   "outputs": [
    {
     "name": "stdout",
     "output_type": "stream",
     "text": [
      "1 4 5\n"
     ]
    }
   ],
   "source": [
    "print(abs_min_difference(a), abs_min_difference(b), abs_min_difference(c))\n"
   ]
  },
  {
   "cell_type": "markdown",
   "metadata": {},
   "source": [
    "### SQL Interview Question"
   ]
  },
  {
   "cell_type": "markdown",
   "metadata": {},
   "source": [
    "* Between include both boundry values\n",
    "* "
   ]
  },
  {
   "cell_type": "code",
   "execution_count": 144,
   "metadata": {
    "collapsed": false
   },
   "outputs": [],
   "source": [
    "import math"
   ]
  },
  {
   "cell_type": "code",
   "execution_count": 1,
   "metadata": {
    "collapsed": false
   },
   "outputs": [
    {
     "ename": "NameError",
     "evalue": "name 'math' is not defined",
     "output_type": "error",
     "traceback": [
      "\u001b[0;31m---------------------------------------------------------------------------\u001b[0m",
      "\u001b[0;31mNameError\u001b[0m                                 Traceback (most recent call last)",
      "\u001b[0;32m<ipython-input-1-0fd192dde76f>\u001b[0m in \u001b[0;36m<module>\u001b[0;34m()\u001b[0m\n\u001b[0;32m----> 1\u001b[0;31m \u001b[0mmath\u001b[0m\u001b[0;34m.\u001b[0m\u001b[0msqrt\u001b[0m\u001b[0;34m(\u001b[0m\u001b[0;36m33489\u001b[0m\u001b[0;34m)\u001b[0m\u001b[0;34m\u001b[0m\u001b[0m\n\u001b[0m",
      "\u001b[0;31mNameError\u001b[0m: name 'math' is not defined"
     ]
    }
   ],
   "source": [
    "math.sqrt(33489)"
   ]
  },
  {
   "cell_type": "markdown",
   "metadata": {},
   "source": [
    "### MySQL"
   ]
  },
  {
   "cell_type": "markdown",
   "metadata": {},
   "source": [
    "#### Starting MySQL\n",
    "sudo /usr/local/mysql/support-files/mysql.server start\n",
    "#### Stoping MySQL\n",
    "sudo /usr/local/mysql/support-files/mysql.server stop\n",
    "#### Restrat MYSQL\n",
    "sudo /usr/local/mysql/support-files/mysql.server restart"
   ]
  },
  {
   "cell_type": "markdown",
   "metadata": {},
   "source": [
    "Go to: /usr/local/mysql-shell/bin <br>\n",
    "musqlsh to enter into mysql shell\n"
   ]
  },
  {
   "cell_type": "markdown",
   "metadata": {},
   "source": [
    "open mysql using:<br>\n",
    "mysql --user=root --password=pI#xnu*Xr7gC\n"
   ]
  },
  {
   "cell_type": "markdown",
   "metadata": {},
   "source": [
    "/* CREATE TABLE FOR DEPARTMENT */\n",
    "CREATE TABLE DEPARTMENT \n",
    "(\n",
    "ID INT PRIMARY KEY, \n",
    "NAME VARCHAR(30)\n",
    ");     \n",
    "/* CREATE TABLE FOR EMP */\n",
    "CREATE TABLE EMP\n",
    "(\n",
    "ID INT, \n",
    "MGR_ID INT, \n",
    "DEPT_ID INT, \n",
    "NAME VARCHAR(30), \n",
    "SAL INT, \n",
    "DOJ DATE, \n",
    "FOREIGN KEY (MGR_ID) REFERENCES DEPARTMENT(id),\n",
    "PRIMARY KEY (ID)\n",
    ");\n",
    "\n"
   ]
  },
  {
   "cell_type": "markdown",
   "metadata": {},
   "source": [
    "INSERT INTO DEPARTMENT  values (1,\"HR\");<br>\n",
    "INSERT INTO DEPARTMENT  values (2,\"Engineering\");<br>\n",
    "INSERT INTO DEPARTMENT  values (3,\"Marketing\");<br>\n",
    "INSERT INTO DEPARTMENT  values (4,\"Sales\");<br>\n",
    "INSERT INTO DEPARTMENT  values (5,\"Logistics\");<br>\n"
   ]
  },
  {
   "cell_type": "markdown",
   "metadata": {},
   "source": [
    "INSERT INTO EMP  values (1, NULL, 2,'Hash', 100, '2012-01-01');<br>\n",
    "INSERT INTO EMP  values (2, 1, 2, 'Robo', 100, '2012-01-01');<br>\n",
    "INSERT INTO EMP  values (3, 2, 1, 'Privy', 50, '2012-05-01');<br>\n",
    "INSERT INTO EMP  values (4, 1, 1, 'Inno', 50, '2012-05-01');<br>\n",
    "INSERT INTO EMP  values (5, 2, 2, 'Anno', 80, '2012-02-01');<br>\n",
    "INSERT INTO EMP  values (6, 1, 2, 'Darl', 80, '2012-02-11');<br>\n",
    "INSERT INTO EMP  values (7, 1, 3, 'Pete', 70, '2012-04-16');<br>\n",
    "INSERT INTO EMP  values (8, 3, 3, 'Meme', 60, '2012-07-26');<br>\n",
    "INSERT INTO EMP  values (9, 2, 4, 'Tomiti', 70, '2012-07-07');<br>\n",
    "INSERT INTO EMP  values (10, 4, 4, 'Bhuti', 60, '2012-08-24');<br>"
   ]
  }
 ],
 "metadata": {
  "anaconda-cloud": {},
  "kernelspec": {
   "display_name": "Python [default]",
   "language": "python",
   "name": "python3"
  },
  "language_info": {
   "codemirror_mode": {
    "name": "ipython",
    "version": 3
   },
   "file_extension": ".py",
   "mimetype": "text/x-python",
   "name": "python",
   "nbconvert_exporter": "python",
   "pygments_lexer": "ipython3",
   "version": "3.5.2"
  }
 },
 "nbformat": 4,
 "nbformat_minor": 2
}
