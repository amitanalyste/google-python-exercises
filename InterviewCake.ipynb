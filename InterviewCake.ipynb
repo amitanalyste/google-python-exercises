{
 "cells": [
  {
   "cell_type": "code",
   "execution_count": 1,
   "metadata": {
    "collapsed": true
   },
   "outputs": [],
   "source": [
    "# Question 1\n",
    "def get_max_profit(stock_prices_yesterday):\n",
    "    min_price = stock_prices_yesterday[0]\n",
    "    max_profit = []\n",
    "    for current_price in stock_prices_yesterday:\n",
    "        min_price = min(min_price, current_price)\n",
    "        max_profit.append(current_price - min_price)\n",
    "    return max(max_profit)\n",
    "        \n",
    "        "
   ]
  },
  {
   "cell_type": "code",
   "execution_count": 2,
   "metadata": {
    "collapsed": false
   },
   "outputs": [],
   "source": [
    "stock_prices_yesterday = [10, 7, 5, 8, 11, 9]\n",
    "assert(get_max_profit(stock_prices_yesterday) == 6)\n",
    "\n",
    "stock_prices_yesterday = [10, 10, 10, 10]\n",
    "max_profit = get_max_profit(stock_prices_yesterday)\n",
    "assert(max_profit == 0)\n",
    "stock_prices_yesterday = [10, 7, 5, 8, 11, 9]\n",
    "max_profit = get_max_profit(stock_prices_yesterday)\n",
    "assert(max_profit == 6)\n",
    "stock_prices_yesterday = [10, 7, 5, 4, 2, 0]\n",
    "max_profit = get_max_profit(stock_prices_yesterday)\n",
    "assert(max_profit == 0)"
   ]
  },
  {
   "cell_type": "code",
   "execution_count": 3,
   "metadata": {
    "collapsed": false
   },
   "outputs": [],
   "source": [
    "lst = [1, 7, 3, 4]\n",
    "opl = [84, 12, 28, 21]\n",
    "def get_products_of_all_ints_except_at_index(lst):\n",
    "    l = len(lst)\n",
    "    op = []\n",
    "    for i in range(l):\n",
    "        acc = 1\n",
    "        for j in range(l):\n",
    "            if i != j:\n",
    "                acc = acc * lst[j]\n",
    "        op.append(acc)\n",
    "    return op\n",
    "assert(get_products_of_all_ints_except_at_index(lst) == opl)"
   ]
  },
  {
   "cell_type": "code",
   "execution_count": 4,
   "metadata": {
    "collapsed": false
   },
   "outputs": [
    {
     "data": {
      "text/plain": [
       "[24, 12, 8, 6]"
      ]
     },
     "execution_count": 4,
     "metadata": {},
     "output_type": "execute_result"
    }
   ],
   "source": [
    "get_products_of_all_ints_except_at_index([1, 2, 3, 4])"
   ]
  },
  {
   "cell_type": "code",
   "execution_count": 5,
   "metadata": {
    "collapsed": false
   },
   "outputs": [
    {
     "data": {
      "text/plain": [
       "[84, 12, 28, 21]"
      ]
     },
     "execution_count": 5,
     "metadata": {},
     "output_type": "execute_result"
    }
   ],
   "source": [
    "get_products_of_all_ints_except_at_index(lst)"
   ]
  },
  {
   "cell_type": "code",
   "execution_count": 6,
   "metadata": {
    "collapsed": false
   },
   "outputs": [],
   "source": [
    "def highest_product(lst):\n",
    "    \"\"\"Function is to evaluate the highest product of 3 numbers from the list. \n",
    "    The function is assuming that list is integer list with minimum 3 integer. \"\"\"\n",
    "    sorted_list = sorted(lst)\n",
    "    op1, op2 = 1,1\n",
    "\n",
    "    for item in sorted_list[-3:]:\n",
    "        op1 = op1 * item\n",
    "    #print(op1)\n",
    "    if sorted_list[0] > 0 or sorted_list[-1] < 0:\n",
    "        return op1\n",
    "    else:\n",
    "        for index in [0, 1, -1]:\n",
    "            op2 = op2 * sorted_list[index]\n",
    "    \n",
    "    if op1 > op2:\n",
    "        return op1\n",
    "    else:\n",
    "        return op2\n",
    "assert(highest_product([-10, -10, 1, 3, 2]) == 300 )\n",
    "assert(highest_product([-2, -9, 3, 8, 4, 7, 6, 5, -10, 1]) == 720)\n",
    "assert(highest_product([-10, -3, -5, -6, -20]) == -90)\n",
    "assert(highest_product([1, -4, 3, -6, 7, 0]) == 168)"
   ]
  },
  {
   "cell_type": "code",
   "execution_count": 7,
   "metadata": {
    "collapsed": true
   },
   "outputs": [],
   "source": [
    "#def merge_ranges(lst):\n",
    "lst = [(0, 1), (3, 5), (4, 8), (10, 12), (9, 10)]   "
   ]
  },
  {
   "cell_type": "code",
   "execution_count": 8,
   "metadata": {
    "collapsed": false
   },
   "outputs": [],
   "source": [
    "a = sorted(lst)"
   ]
  },
  {
   "cell_type": "code",
   "execution_count": 9,
   "metadata": {
    "collapsed": false
   },
   "outputs": [
    {
     "data": {
      "text/plain": [
       "[(0, 1), (3, 5), (4, 8), (9, 10), (10, 12)]"
      ]
     },
     "execution_count": 9,
     "metadata": {},
     "output_type": "execute_result"
    }
   ],
   "source": [
    "a"
   ]
  },
  {
   "cell_type": "code",
   "execution_count": 13,
   "metadata": {
    "collapsed": false
   },
   "outputs": [],
   "source": [
    "def merge_ranges(lst):\n",
    "    input_list = sorted(lst, key = lambda x: x[0])\n",
    "    for i in range(len(lst)):\n",
    "        if i != len(lst)-1:\n",
    "            if input_list[i][1] >= input_list[i+1][0]:\n",
    "                input_list[i+1] = (input_list[i][0], max(input_list[i][1], input_list[i+1][1]))\n",
    "                input_list[i] = \"to remove\"\n",
    "    #print(input_list)\n",
    "    op_list = []\n",
    "    for item in input_list:\n",
    "        if item != 'to remove':\n",
    "            op_list.append(item)\n",
    "    return op_list"
   ]
  },
  {
   "cell_type": "code",
   "execution_count": 27,
   "metadata": {
    "collapsed": false
   },
   "outputs": [
    {
     "data": {
      "text/plain": [
       "[(1, 10)]"
      ]
     },
     "execution_count": 27,
     "metadata": {},
     "output_type": "execute_result"
    }
   ],
   "source": [
    "lst =  [(1, 10), (2, 6), (3, 5), (7, 9)]\n",
    "merge_intervals(lst)"
   ]
  },
  {
   "cell_type": "code",
   "execution_count": 25,
   "metadata": {
    "collapsed": false
   },
   "outputs": [
    {
     "data": {
      "text/plain": [
       "[(0, 1), (3, 8), (10, 12)]"
      ]
     },
     "execution_count": 25,
     "metadata": {},
     "output_type": "execute_result"
    }
   ],
   "source": [
    "test1 = [(0, 1), (3, 5), (4, 8), (10, 12), (9, 10)]\n",
    "merge_intervals(test1)"
   ]
  },
  {
   "cell_type": "code",
   "execution_count": 24,
   "metadata": {
    "collapsed": false
   },
   "outputs": [],
   "source": [
    "def merge_intervals(intervals):\n",
    "    \"\"\"\n",
    "    1. Sort the interval in increasing order\n",
    "    2. Push the first interval on the stack\n",
    "    3. Iterate through intervals and for each one compare current interval with the top of the stack and:\n",
    "        A. If current interval doesn't overlap, push on to stack\n",
    "        B. If current interval does overlap, merge both intervals in to one and push on to the stack\n",
    "    4. At the end, return stack\n",
    "    \"\"\"\n",
    "    \n",
    "    s_i = sorted(intervals, key = lambda x: x[0])\n",
    "    merged = []\n",
    "    for interval in intervals:\n",
    "        if not merged:\n",
    "            merged.append(interval)\n",
    "        else:\n",
    "            b = merged.pop()\n",
    "            if b[1] > interval[0] and b[1] < interval[1]:\n",
    "                new_interval = (b[0], interval[1])\n",
    "                merged.append(new_interval)\n",
    "            elif b[1] > interval[0] and b[1] > interval[1]:\n",
    "                merged.append(b)\n",
    "            else:\n",
    "                merged.append(b)\n",
    "                merged.append(interval)\n",
    "    return merged\n",
    "                "
   ]
  },
  {
   "cell_type": "code",
   "execution_count": 17,
   "metadata": {
    "collapsed": false
   },
   "outputs": [
    {
     "name": "stdout",
     "output_type": "stream",
     "text": [
      "B\n"
     ]
    }
   ],
   "source": [
    "merged = []\n",
    "if merged:\n",
    "    print(\"A\")\n",
    "else:\n",
    "    print(\"B\")"
   ]
  },
  {
   "cell_type": "code",
   "execution_count": null,
   "metadata": {
    "collapsed": false
   },
   "outputs": [],
   "source": [
    "###%%%%5555\n",
    "def denominations(amount, denomination):\n",
    "    def loop(amount, denomination, op):\n",
    "        if accumulator = amount:\n",
    "            return op\n",
    "        else:\n",
    "            for x in denomination:\n",
    "                \n",
    "    \n",
    "    \n"
   ]
  },
  {
   "cell_type": "code",
   "execution_count": null,
   "metadata": {
    "collapsed": true
   },
   "outputs": [],
   "source": [
    "lst =   [(1, 2), (2, 3)]"
   ]
  },
  {
   "cell_type": "code",
   "execution_count": 19,
   "metadata": {
    "collapsed": true
   },
   "outputs": [],
   "source": [
    "# Dynamic Programming Python implementation of Coin Change problem\n",
    "def count(S, m, n):\n",
    "    # We need n+1 rows as the table is consturcted in bottom up\n",
    "    # manner using the base case 0 value case (n = 0)\n",
    "    table = [[0 for x in range(m)] for x in range(n+1)]\n",
    " \n",
    "    # Fill the enteries for 0 value case (n = 0)\n",
    "    for i in range(m):\n",
    "        table[0][i] = 1\n",
    " \n",
    "    # Fill rest of the table enteries in bottom up manner\n",
    "    for i in range(1, n+1):\n",
    "        for j in range(m):\n",
    "            # Count of solutions including S[j]\n",
    "            x = table[i - S[j]][j] if i-S[j] >= 0 else 0\n",
    " \n",
    "            # Count of solutions excluding S[j]\n",
    "            y = table[i][j-1] if j >= 1 else 0\n",
    " \n",
    "            # total count\n",
    "            table[i][j] = x + y\n",
    " \n",
    "    return table[n][m-1]"
   ]
  },
  {
   "cell_type": "code",
   "execution_count": 20,
   "metadata": {
    "collapsed": false
   },
   "outputs": [
    {
     "data": {
      "text/plain": [
       "5"
      ]
     },
     "execution_count": 20,
     "metadata": {},
     "output_type": "execute_result"
    }
   ],
   "source": [
    "count([1, 2, 3], 3, 5)"
   ]
  },
  {
   "cell_type": "markdown",
   "metadata": {},
   "source": [
    "##Dynamic Programming\n",
    "* Recurssion\n",
    "* Memorization\n",
    "* Guessing all possible solution\n",
    "* "
   ]
  },
  {
   "cell_type": "code",
   "execution_count": 16,
   "metadata": {
    "collapsed": false
   },
   "outputs": [],
   "source": [
    "## Bottom-Up algorithm\n",
    "def fib(n):\n",
    "    fib_memo = {}\n",
    "    for k in range(1, n+1):\n",
    "        if k <= 2:\n",
    "            f = 1\n",
    "        else:\n",
    "            f = fib_memo[k-1] + fib_memo[k-2]\n",
    "        fib_memo[k] = f\n",
    "    return fib_memo[n]\n",
    "            "
   ]
  },
  {
   "cell_type": "code",
   "execution_count": 1,
   "metadata": {
    "collapsed": true
   },
   "outputs": [],
   "source": [
    "def coinChange(centsNeeded, coinValues):\n",
    "   minCoins = [[0 for j in range(centsNeeded + 1)]\n",
    "               for i in range(len(coinValues))]\n",
    "   minCoins[0] = range(centsNeeded + 1)\n",
    "\n",
    "   for i in range(1,len(coinValues)):\n",
    "      for j in range(0, centsNeeded + 1):\n",
    "         if j < coinValues[i]:\n",
    "            minCoins[i][j] = minCoins[i-1][j]\n",
    "         else:\n",
    "            minCoins[i][j] = min(minCoins[i-1][j],\n",
    "             1 + minCoins[i][j-coinValues[i]])\n",
    "\n",
    "   return minCoins[-1][-1]"
   ]
  },
  {
   "cell_type": "code",
   "execution_count": 2,
   "metadata": {
    "collapsed": false
   },
   "outputs": [
    {
     "data": {
      "text/plain": [
       "2"
      ]
     },
     "execution_count": 2,
     "metadata": {},
     "output_type": "execute_result"
    }
   ],
   "source": [
    "coinChange(5, [1, 2, 3])"
   ]
  },
  {
   "cell_type": "code",
   "execution_count": 3,
   "metadata": {
    "collapsed": false
   },
   "outputs": [],
   "source": [
    "def change(n, coins_available, coins_so_far):\n",
    "    if sum(coins_so_far) == n:\n",
    "        yield coins_so_far\n",
    "    elif sum(coins_so_far) > n:\n",
    "        pass\n",
    "    elif coins_available == []:\n",
    "        pass\n",
    "    else:\n",
    "        for c in change(n, coins_available[:], coins_so_far + [coins_available[0]]):\n",
    "            yield c\n",
    "        for c in change(n, coins_available[1:], coins_so_far):\n",
    "            yield c\n",
    "\n",
    "n = 50\n",
    "coins = [1, 2, 3]  "
   ]
  },
  {
   "cell_type": "code",
   "execution_count": 4,
   "metadata": {
    "collapsed": false
   },
   "outputs": [],
   "source": [
    "solutions = [s for s in change(n, coins, [])]"
   ]
  },
  {
   "cell_type": "code",
   "execution_count": 5,
   "metadata": {
    "collapsed": true
   },
   "outputs": [],
   "source": [
    "def minimum(solution):\n",
    "    min_len = len(solution[0])\n",
    "    for a in solution:\n",
    "        if min_len > len(a):\n",
    "            min_len = len(a)\n",
    "    return min_len"
   ]
  },
  {
   "cell_type": "code",
   "execution_count": 6,
   "metadata": {
    "collapsed": false
   },
   "outputs": [
    {
     "data": {
      "text/plain": [
       "17"
      ]
     },
     "execution_count": 6,
     "metadata": {},
     "output_type": "execute_result"
    }
   ],
   "source": [
    "minimum(solutions)"
   ]
  },
  {
   "cell_type": "code",
   "execution_count": 7,
   "metadata": {
    "collapsed": false
   },
   "outputs": [
    {
     "name": "stdout",
     "output_type": "stream",
     "text": [
      "Optimal Solution:  [2, 3, 3, 3, 3, 3, 3, 3, 3, 3, 3, 3, 3, 3, 3, 3, 3]\n"
     ]
    }
   ],
   "source": [
    "import numpy as np\n",
    "print('Optimal Solution: ', min(solutions, key = len))"
   ]
  },
  {
   "cell_type": "code",
   "execution_count": 34,
   "metadata": {
    "collapsed": true
   },
   "outputs": [],
   "source": [
    "def make_rectangle(l):\n",
    "    (l, b, w, h) = l\n",
    "    return {\n",
    "        'left_x': l,\n",
    "        'bottom_y': b,\n",
    "        'width': w,\n",
    "        'height': h,\n",
    "    }"
   ]
  },
  {
   "cell_type": "code",
   "execution_count": 39,
   "metadata": {
    "collapsed": true
   },
   "outputs": [],
   "source": [
    "def rectangular_intersection(rect1, rect2):\n",
    "    \"\"\"returns a dictionary containing the coordinates of the intersection of two rects\"\"\"\n",
    "    left1 = rect1['left_x']\n",
    "    right1 = rect1['left_x'] + rect1['width']\n",
    "    bottom1 = rect1['bottom_y']\n",
    "    up1 = rect1['bottom_y'] + rect1['height']\n",
    "    left2 = rect2['left_x']\n",
    "    right2 = rect2['left_x'] + rect1['width']\n",
    "    bottom2 = rect2['bottom_y']\n",
    "    up2 = rect2['bottom_y'] + rect1['height']\n",
    "    \n",
    "    bottom_op = max(bottom1, bottom2)\n",
    "    up_op = min(up1, up2)\n",
    "    left_op = max(left1, left2)\n",
    "    right_op = min(right1, right2)\n",
    "    \n",
    "    width_op = right_op - left_op\n",
    "    height_op = up_op - bottom_op\n",
    "    \n",
    "    intersection = {\n",
    "        \n",
    "        \n",
    "        'left_x': left_op,\n",
    "        'bottom_y': bottom_op,\n",
    "\n",
    "    # width and height\n",
    "        'width': width_op,\n",
    "        'height': height_op,\n",
    "    }\n",
    "    return intersection"
   ]
  },
  {
   "cell_type": "code",
   "execution_count": null,
   "metadata": {
    "collapsed": true
   },
   "outputs": [],
   "source": [
    "rectangular_intersection()"
   ]
  },
  {
   "cell_type": "code",
   "execution_count": 35,
   "metadata": {
    "collapsed": false
   },
   "outputs": [],
   "source": [
    "r1 = make_rectangle([1, 5, 10, 4])"
   ]
  },
  {
   "cell_type": "code",
   "execution_count": 40,
   "metadata": {
    "collapsed": true
   },
   "outputs": [],
   "source": [
    "tests = [\n",
    "            [make_rectangle([2, 6, 2, 2]),\n",
    "             make_rectangle([2, 6, 2, 2])],\n",
    "            [make_rectangle([2, 6, 9, 3]),\n",
    "             make_rectangle([2, 6, 9, 3])],\n",
    "            [make_rectangle([2, 6, 10, 4]),\n",
    "             make_rectangle([2, 6, 9, 3])],\n",
    "            [make_rectangle([10, 5, 10, 2]),\n",
    "             make_rectangle([10, 5, 1, 2])],\n",
    "            [make_rectangle([0, 0, 1, 1]),\n",
    "             None],\n",
    "            [make_rectangle([2, 0, 9, 2]),\n",
    "             None],\n",
    "            [make_rectangle([2, 10, 10, 4]),\n",
    "             None]\n",
    "        ]"
   ]
  },
  {
   "cell_type": "code",
   "execution_count": 42,
   "metadata": {
    "collapsed": false
   },
   "outputs": [
    {
     "name": "stdout",
     "output_type": "stream",
     "text": [
      "test cases\n",
      "r1 = {'left_x': 1, 'width': 10, 'bottom_y': 5, 'height': 4}\n",
      "r2 = {'left_x': 2, 'width': 2, 'bottom_y': 6, 'height': 2}\n",
      "answer = {'left_x': 2, 'width': 2, 'bottom_y': 6, 'height': 2}\n",
      " soln1 = {'left_x': 2, 'width': 9, 'bottom_y': 6, 'height': 3}\n",
      "r1 = {'left_x': 1, 'width': 10, 'bottom_y': 5, 'height': 4}\n",
      "r2 = {'left_x': 2, 'width': 9, 'bottom_y': 6, 'height': 3}\n",
      "answer = {'left_x': 2, 'width': 9, 'bottom_y': 6, 'height': 3}\n",
      " soln1 = {'left_x': 2, 'width': 9, 'bottom_y': 6, 'height': 3}\n",
      "r1 = {'left_x': 1, 'width': 10, 'bottom_y': 5, 'height': 4}\n",
      "r2 = {'left_x': 2, 'width': 10, 'bottom_y': 6, 'height': 4}\n",
      "answer = {'left_x': 2, 'width': 9, 'bottom_y': 6, 'height': 3}\n",
      " soln1 = {'left_x': 2, 'width': 9, 'bottom_y': 6, 'height': 3}\n",
      "r1 = {'left_x': 1, 'width': 10, 'bottom_y': 5, 'height': 4}\n",
      "r2 = {'left_x': 10, 'width': 10, 'bottom_y': 5, 'height': 2}\n",
      "answer = {'left_x': 10, 'width': 1, 'bottom_y': 5, 'height': 2}\n",
      " soln1 = {'left_x': 10, 'width': 1, 'bottom_y': 5, 'height': 4}\n",
      "r1 = {'left_x': 1, 'width': 10, 'bottom_y': 5, 'height': 4}\n",
      "r2 = {'left_x': 0, 'width': 1, 'bottom_y': 0, 'height': 1}\n",
      "answer = None\n",
      " soln1 = {'left_x': 1, 'width': 9, 'bottom_y': 5, 'height': -1}\n",
      "r1 = {'left_x': 1, 'width': 10, 'bottom_y': 5, 'height': 4}\n",
      "r2 = {'left_x': 2, 'width': 9, 'bottom_y': 0, 'height': 2}\n",
      "answer = None\n",
      " soln1 = {'left_x': 2, 'width': 9, 'bottom_y': 5, 'height': -1}\n",
      "r1 = {'left_x': 1, 'width': 10, 'bottom_y': 5, 'height': 4}\n",
      "r2 = {'left_x': 2, 'width': 10, 'bottom_y': 10, 'height': 4}\n",
      "answer = None\n",
      " soln1 = {'left_x': 2, 'width': 9, 'bottom_y': 10, 'height': -1}\n"
     ]
    }
   ],
   "source": [
    "print(\"test cases\")\n",
    "for (r2, answer) in tests:\n",
    "    soln1 = rectangular_intersection(r1, r2)\n",
    "    #soln2 = rectangular_intersection2(r1, r2)\n",
    "\n",
    "    print(\"r1 = %s\" % r1)\n",
    "    print(\"r2 = %s\" % r2)\n",
    "    print(\"answer = %s\" % answer)\n",
    "    print(\" soln1 = %s\" % soln1)\n",
    "    #print(\" soln2 = %s\" % soln2)"
   ]
  },
  {
   "cell_type": "code",
   "execution_count": 43,
   "metadata": {
    "collapsed": true
   },
   "outputs": [],
   "source": [
    "r1 = {'left_x': 1, 'width': 10, 'bottom_y': 5, 'height': 4}\n",
    "r2 = {'left_x': 2, 'width': 2, 'bottom_y': 6, 'height': 2}"
   ]
  },
  {
   "cell_type": "code",
   "execution_count": 44,
   "metadata": {
    "collapsed": false
   },
   "outputs": [
    {
     "data": {
      "text/plain": [
       "{'bottom_y': 6, 'height': 3, 'left_x': 2, 'width': 9}"
      ]
     },
     "execution_count": 44,
     "metadata": {},
     "output_type": "execute_result"
    }
   ],
   "source": [
    "rectangular_intersection(r1, r2)"
   ]
  },
  {
   "cell_type": "code",
   "execution_count": null,
   "metadata": {
    "collapsed": true
   },
   "outputs": [],
   "source": []
  }
 ],
 "metadata": {
  "anaconda-cloud": {},
  "kernelspec": {
   "display_name": "Python [default]",
   "language": "python",
   "name": "python3"
  },
  "language_info": {
   "codemirror_mode": {
    "name": "ipython",
    "version": 3
   },
   "file_extension": ".py",
   "mimetype": "text/x-python",
   "name": "python",
   "nbconvert_exporter": "python",
   "pygments_lexer": "ipython3",
   "version": "3.5.2"
  }
 },
 "nbformat": 4,
 "nbformat_minor": 2
}
